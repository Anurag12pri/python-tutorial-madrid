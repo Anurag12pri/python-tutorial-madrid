{
 "cells": [
  {
   "cell_type": "code",
   "execution_count": 2,
   "id": "4b1846ad-55ce-4a0b-92c3-2eee85685a81",
   "metadata": {},
   "outputs": [
    {
     "name": "stdout",
     "output_type": "stream",
     "text": [
      "(1, 2, 3, [2, 4, 5])\n"
     ]
    }
   ],
   "source": [
    "T1=(1,2,3,[2,4,5])\n",
    "print(T1)"
   ]
  },
  {
   "cell_type": "code",
   "execution_count": 4,
   "id": "ea764f2a-ecd2-45ed-a1a6-64e824a93f11",
   "metadata": {},
   "outputs": [
    {
     "name": "stdout",
     "output_type": "stream",
     "text": [
      "(1, 3, 4, 'how', 'are', 'you', 1.1, 10.5)\n"
     ]
    }
   ],
   "source": [
    "T2=(1,3,4,'how','are','you',1.1,10.5)\n",
    "print(T2)"
   ]
  },
  {
   "cell_type": "code",
   "execution_count": 9,
   "id": "cc5a1ba6-e176-4fed-8d9a-7ce3974dd6fd",
   "metadata": {},
   "outputs": [
    {
     "name": "stdout",
     "output_type": "stream",
     "text": [
      "('anurag',)\n"
     ]
    }
   ],
   "source": [
    "t1=tuple(('anurag',))\n",
    "print(t1)"
   ]
  },
  {
   "cell_type": "code",
   "execution_count": 10,
   "id": "e37fbe6f-7ebf-4d4f-98e6-7e2d2ba8a587",
   "metadata": {},
   "outputs": [
    {
     "name": "stdout",
     "output_type": "stream",
     "text": [
      "12\n",
      "33\n",
      "44\n",
      "55\n",
      "66\n"
     ]
    }
   ],
   "source": [
    "#tuple packing concept\n",
    "T1=12,33,44,55,66,\n",
    "a,b,c,d,e=T1\n",
    "print(a)\n",
    "print(b)\n",
    "print(c)\n",
    "print(d)\n",
    "print(e)"
   ]
  },
  {
   "cell_type": "code",
   "execution_count": 11,
   "id": "064d2ba6-2063-4c23-90af-b9991f55f77b",
   "metadata": {},
   "outputs": [
    {
     "name": "stdout",
     "output_type": "stream",
     "text": [
      "<class 'int'>\n"
     ]
    }
   ],
   "source": [
    "t1=(140)\n",
    "print(type(t1))"
   ]
  },
  {
   "cell_type": "code",
   "execution_count": 12,
   "id": "3ec0e507-2a2e-4589-b6be-78dae90f0e02",
   "metadata": {},
   "outputs": [
    {
     "name": "stdout",
     "output_type": "stream",
     "text": [
      "<class 'tuple'>\n"
     ]
    }
   ],
   "source": [
    "t1=(222,)\n",
    "print(type(t1))"
   ]
  },
  {
   "cell_type": "code",
   "execution_count": 13,
   "id": "084381d9-db25-466c-bd55-1b303624bd7a",
   "metadata": {},
   "outputs": [
    {
     "name": "stdout",
     "output_type": "stream",
     "text": [
      "66\n"
     ]
    }
   ],
   "source": [
    "T3=(12,33,445,55,66,)\n",
    "print(T3[4])"
   ]
  },
  {
   "cell_type": "code",
   "execution_count": 14,
   "id": "b16f2911-6dad-4450-8d9f-82c90e4d1954",
   "metadata": {},
   "outputs": [
    {
     "name": "stdout",
     "output_type": "stream",
     "text": [
      "55\n"
     ]
    }
   ],
   "source": [
    "T3=(12,33,445,55,66,)\n",
    "print(T3[-2])"
   ]
  },
  {
   "cell_type": "code",
   "execution_count": 15,
   "id": "66a60950-bc24-40b2-a396-6cb81551a174",
   "metadata": {},
   "outputs": [
    {
     "name": "stdout",
     "output_type": "stream",
     "text": [
      "445\n"
     ]
    }
   ],
   "source": [
    "T3=(12,33,445,55,66,)\n",
    "print(T3[2])"
   ]
  },
  {
   "cell_type": "code",
   "execution_count": 16,
   "id": "d003dc0d-0afd-43db-94d5-4029d9f9214a",
   "metadata": {},
   "outputs": [
    {
     "name": "stdout",
     "output_type": "stream",
     "text": [
      "(1, 3, 4, 5, 5, 6, 7, 8)\n"
     ]
    }
   ],
   "source": [
    "t1=1,3,4,5,\n",
    "t2=5,6,7,8\n",
    "print(t1+t2)"
   ]
  },
  {
   "cell_type": "code",
   "execution_count": 17,
   "id": "c18b659f-6e50-401d-bb30-ed12b1ab64a6",
   "metadata": {},
   "outputs": [
    {
     "name": "stdout",
     "output_type": "stream",
     "text": [
      "(2, 44, 55, 66, 77, 888, 2, 3, 3)\n",
      "0\n"
     ]
    }
   ],
   "source": [
    "#index()method\n",
    "t1=2,44,55,66,77,888,2,3,3,\n",
    "print(t1)\n",
    "x=t1.index(2)\n",
    "print(x)"
   ]
  },
  {
   "cell_type": "code",
   "execution_count": 18,
   "id": "cb11bfc1-8911-42bc-b2af-7d5d2a8a0e53",
   "metadata": {},
   "outputs": [
    {
     "name": "stdout",
     "output_type": "stream",
     "text": [
      "(1, 33, 44, 55, 66, 77, 65)\n"
     ]
    }
   ],
   "source": [
    "# adding one element in the tuple\n",
    "t1=(1,33,44,55,66,77,)\n",
    "anurag=list(t1)\n",
    "anurag.append(65)\n",
    "t1=tuple(anurag)\n",
    "print(t1)\n"
   ]
  },
  {
   "cell_type": "code",
   "execution_count": 19,
   "id": "c95aee60-ca33-4230-b6ea-16a2cee13894",
   "metadata": {},
   "outputs": [
    {
     "name": "stdout",
     "output_type": "stream",
     "text": [
      "(1, 33, 'anurag', 55, 66, 77)\n"
     ]
    }
   ],
   "source": [
    "#update an element in the tuple\n",
    "t1=(1,33,44,55,66,77,)\n",
    "anurag=list(t1)\n",
    "anurag[2]='anurag'\n",
    "t1=tuple(anurag)\n",
    "print(t1)\n"
   ]
  },
  {
   "cell_type": "code",
   "execution_count": null,
   "id": "1098b071-4241-4b06-8144-c1710f411e1e",
   "metadata": {},
   "outputs": [],
   "source": []
  }
 ],
 "metadata": {
  "kernelspec": {
   "display_name": "Python 3 (ipykernel)",
   "language": "python",
   "name": "python3"
  },
  "language_info": {
   "codemirror_mode": {
    "name": "ipython",
    "version": 3
   },
   "file_extension": ".py",
   "mimetype": "text/x-python",
   "name": "python",
   "nbconvert_exporter": "python",
   "pygments_lexer": "ipython3",
   "version": "3.11.7"
  }
 },
 "nbformat": 4,
 "nbformat_minor": 5
}
