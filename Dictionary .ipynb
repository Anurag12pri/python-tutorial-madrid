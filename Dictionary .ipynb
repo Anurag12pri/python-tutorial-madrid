{
 "cells": [
  {
   "cell_type": "code",
   "execution_count": 13,
   "id": "0270d876-8897-4b32-aa25-05d518fec690",
   "metadata": {},
   "outputs": [
    {
     "name": "stdout",
     "output_type": "stream",
     "text": [
      "<class 'dict'>\n",
      "{'name': 'anurag', 'age': 34, 'marks': [33, 334, 55]}\n"
     ]
    }
   ],
   "source": [
    "dict={\n",
    "    \"name\": \"anurag\",\n",
    "    \"age\":  34,\n",
    "    \"marks\":[33,334,55,]\n",
    "    \n",
    "}\n",
    "\n",
    "print(type(dict))\n",
    "print(dict)\n",
    "#print(dict[\"age\"])\n",
    "\n",
    "    \n",
    "    \n",
    "    \n",
    "\n",
    "\n"
   ]
  },
  {
   "cell_type": "code",
   "execution_count": 6,
   "id": "417bb632-9362-4695-9b93-93be17229754",
   "metadata": {},
   "outputs": [
    {
     "name": "stdout",
     "output_type": "stream",
     "text": [
      "{1, 3, 4, 'world', 6, 7, 'hello'}\n",
      "<class 'set'>\n",
      "7\n"
     ]
    }
   ],
   "source": [
    "collection={1,3,6,4,4,4,7,'hello','world','hello'}\n",
    "print(collection)\n",
    "print(type(collection))\n",
    "print(len(collection))\n",
    "\n"
   ]
  },
  {
   "cell_type": "code",
   "execution_count": 16,
   "id": "4b29ed1c-aae6-42ec-89cb-ac5e6d5279a7",
   "metadata": {},
   "outputs": [
    {
     "name": "stdout",
     "output_type": "stream",
     "text": [
      "{2, (1, 2, 2, 3, 4)}\n",
      "<class 'set'>\n",
      "0\n"
     ]
    }
   ],
   "source": [
    "#create empty set\n",
    "collection=set()\n",
    "collection.add(2)\n",
    "collection.add((1,2,2,3,4,))\n",
    "print(collection)\n",
    "collection.clear()\n",
    "print(type(collection))\n",
    "print(len(collection))"
   ]
  },
  {
   "cell_type": "code",
   "execution_count": 8,
   "id": "377044a7-877b-4a42-81bf-b771cf6ef152",
   "metadata": {},
   "outputs": [
    {
     "name": "stdout",
     "output_type": "stream",
     "text": [
      "<class 'dict'>\n"
     ]
    }
   ],
   "source": [
    "#create empty dictionary\n",
    "#collection={}\n",
    "#print(type(collection))"
   ]
  },
  {
   "cell_type": "code",
   "execution_count": 22,
   "id": "a19dd715-e957-4876-8416-e8e4027e08b2",
   "metadata": {},
   "outputs": [
    {
     "name": "stdout",
     "output_type": "stream",
     "text": [
      "{'usa': 'washington DC', 'INDIA': 'NEW DELHI'}\n",
      "<class 'dict'>\n"
     ]
    }
   ],
   "source": [
    "info2={\n",
    "    \"usa\":\"washington DC\",\n",
    "    \"INDIA\":\"NEW DELHI\",\n",
    "}\n",
    "print(info2)\n",
    "print(type(info2))"
   ]
  },
  {
   "cell_type": "code",
   "execution_count": 15,
   "id": "a111635c-54ff-4903-be73-c98849ee95b9",
   "metadata": {},
   "outputs": [
    {
     "name": "stdout",
     "output_type": "stream",
     "text": [
      "{1: 4, 2: 'two', 3: 'three'}\n"
     ]
    }
   ],
   "source": [
    "nunname={ 1:4,2:\"two\",3:\"three\",}\n",
    "print(nunname)"
   ]
  },
  {
   "cell_type": "code",
   "execution_count": 5,
   "id": "33ad258f-fc12-4c0a-9b21-6aac1b4e7444",
   "metadata": {},
   "outputs": [
    {
     "name": "stdout",
     "output_type": "stream",
     "text": [
      "{'I': 'one', 'II': 'two', 'III': 'three'}\n"
     ]
    }
   ],
   "source": [
    "numdict=dict(I=\"one\",II=\"two\",III=\"three\")\n",
    "print((numdict))"
   ]
  },
  {
   "cell_type": "code",
   "execution_count": 18,
   "id": "bbb7e332-3200-4034-b8e3-326ca079edb9",
   "metadata": {},
   "outputs": [
    {
     "name": "stdout",
     "output_type": "stream",
     "text": [
      "two\n"
     ]
    }
   ],
   "source": [
    "numname={1:\"one\",2:\"two\",3:\"three\"}\n",
    "print(numname[2])"
   ]
  },
  {
   "cell_type": "code",
   "execution_count": 19,
   "id": "a13ceed9-623f-43b8-b524-0406d3bd16f0",
   "metadata": {},
   "outputs": [
    {
     "name": "stdout",
     "output_type": "stream",
     "text": [
      "None\n"
     ]
    }
   ],
   "source": [
    "numname={1:\"one\",2:\"two\",3:\"three\"}\n",
    "print(numname.get(4))\n"
   ]
  },
  {
   "cell_type": "code",
   "execution_count": 20,
   "id": "e7df7246-e442-48f7-8bbe-a5128c0f34f9",
   "metadata": {},
   "outputs": [
    {
     "name": "stdout",
     "output_type": "stream",
     "text": [
      "dict_keys(['usa', 'france', 'india'])\n"
     ]
    }
   ],
   "source": [
    "capital={\"usa\":\"washington dc\",\"france\":\"paris\",\"india\":\"new delhi\"}\n",
    "print(capital.keys())\n",
    "#for i in capital.items():\n",
    "   # print(i,j,end=\" \")\n",
    "   \n"
   ]
  },
  {
   "cell_type": "code",
   "execution_count": 21,
   "id": "b5e2d387-7de1-4868-8b55-45caa9151675",
   "metadata": {},
   "outputs": [
    {
     "name": "stdout",
     "output_type": "stream",
     "text": [
      "dict_values(['washington dc', 'paris', 'new delhi'])\n"
     ]
    }
   ],
   "source": [
    "capital={\"usa\":\"washington dc\",\"france\":\"paris\",\"india\":\"new delhi\"}\n",
    "print(capital.values())"
   ]
  },
  {
   "cell_type": "code",
   "execution_count": 22,
   "id": "a7136384-acea-4573-8015-74806051e337",
   "metadata": {},
   "outputs": [
    {
     "name": "stdout",
     "output_type": "stream",
     "text": [
      "dict_items([('usa', 'washington dc'), ('france', 'paris'), ('india', 'new delhi')])\n"
     ]
    }
   ],
   "source": [
    "capital={\"usa\":\"washington dc\",\"france\":\"paris\",\"india\":\"new delhi\"}\n",
    "print(capital.items())"
   ]
  },
  {
   "cell_type": "code",
   "execution_count": 23,
   "id": "1ae1de66-76cb-4a98-8ed6-f3ed5016a942",
   "metadata": {},
   "outputs": [
    {
     "name": "stdout",
     "output_type": "stream",
     "text": [
      "{'england': 'root', 'australia': 'smith', 'india': 'dhoni'}\n",
      "{'england': 'root', 'australia': 'paine', 'india': 'virat'}\n"
     ]
    }
   ],
   "source": [
    "captain={\"england\":\"root\",\"australia\":\"smith\",\"india\":\"dhoni\"}\n",
    "print(captain)\n",
    "captain['india']='virat'\n",
    "captain['australia']='paine'\n",
    "print(captain)\n"
   ]
  },
  {
   "cell_type": "code",
   "execution_count": 24,
   "id": "dfbb944f-a013-4cf4-b920-68d595316239",
   "metadata": {},
   "outputs": [
    {
     "name": "stdout",
     "output_type": "stream",
     "text": [
      "{'england': 'root', 'india': 'dhoni'}\n",
      "{'england': 'root', 'india': 'virat', 'australia': 'paine'}\n"
     ]
    }
   ],
   "source": [
    "captain={\"england\":\"root\",\"india\":\"dhoni\"}\n",
    "print(captain)\n",
    "captain['india']='virat'\n",
    "captain['australia']='paine'\n",
    "print(captain)"
   ]
  },
  {
   "cell_type": "code",
   "execution_count": 4,
   "id": "69978e0c-2583-455a-b74c-339c8b7e67bf",
   "metadata": {},
   "outputs": [
    {
     "name": "stdout",
     "output_type": "stream",
     "text": [
      "{'australia': 'paine', 'india': 'new delhi', 'srilaka': 'jayasurya'}\n",
      "{'india': 'new delhi', 'srilaka': 'jayasurya'}\n"
     ]
    },
    {
     "ename": "NameError",
     "evalue": "name 'captains' is not defined",
     "output_type": "error",
     "traceback": [
      "\u001b[1;31m---------------------------------------------------------------------------\u001b[0m",
      "\u001b[1;31mNameError\u001b[0m                                 Traceback (most recent call last)",
      "Cell \u001b[1;32mIn[4], line 6\u001b[0m\n\u001b[0;32m      4\u001b[0m \u001b[38;5;28mprint\u001b[39m(captains)\n\u001b[0;32m      5\u001b[0m \u001b[38;5;28;01mdel\u001b[39;00m captains\n\u001b[1;32m----> 6\u001b[0m \u001b[38;5;28mprint\u001b[39m(captains)\n",
      "\u001b[1;31mNameError\u001b[0m: name 'captains' is not defined"
     ]
    }
   ],
   "source": [
    "captains={'australia':'paine','india':'new delhi','srilaka':'jayasurya'}\n",
    "print(captains)\n",
    "del captains['australia']\n",
    "print(captains)\n",
    "del captains\n",
    "print(captains)\n"
   ]
  },
  {
   "cell_type": "code",
   "execution_count": 4,
   "id": "34923066-f9ee-4f83-8622-d247b2def5cc",
   "metadata": {},
   "outputs": [
    {
     "name": "stdout",
     "output_type": "stream",
     "text": [
      "{'australia': 'paine', 'india': 'new delhi', 'srilaka': 'jayasurya'}\n",
      "{'india': 'new delhi', 'srilaka': 'jayasurya'}\n"
     ]
    }
   ],
   "source": [
    "# del method \n",
    "captains={'australia':'paine','india':'new delhi','srilaka':'jayasurya'}\n",
    "print(captains)\n",
    "del captains['australia']\n",
    "print(captains)"
   ]
  },
  {
   "cell_type": "code",
   "execution_count": 11,
   "id": "0d9922d7-9ee3-45ab-a736-ab6914736e9f",
   "metadata": {},
   "outputs": [
    {
     "name": "stdout",
     "output_type": "stream",
     "text": [
      "{'name': 'anurag', 'age': 25, 'marks': 80} {'name': 'anil', 'age': 23, 'marks': 90} {'name': 'abhishek', 'age': 27, 'marks': 95}\n",
      "{1: {'name': 'anurag', 'age': 25, 'marks': 80}, 2: {'name': 'anil', 'age': 23, 'marks': 90}, 3: {'name': 'abhishek', 'age': 27, 'marks': 95}}\n"
     ]
    }
   ],
   "source": [
    "# multi-dimensional dictionary\n",
    "d1={'name':'anurag','age':25,'marks':80}\n",
    "d2={'name':'anil','age':23,'marks':90}\n",
    "d3={'name':'abhishek','age':27,'marks':95}\n",
    "students={1:d1,2:d2,3:d3}\n",
    "print(d1,d2,d3)\n",
    "print(students)\n",
    "\n",
    "\n",
    "\n"
   ]
  },
  {
   "cell_type": "code",
   "execution_count": 6,
   "id": "bbabb3ff-7966-4383-bada-e1ea145b021a",
   "metadata": {},
   "outputs": [
    {
     "ename": "NameError",
     "evalue": "name 'students' is not defined",
     "output_type": "error",
     "traceback": [
      "\u001b[1;31m---------------------------------------------------------------------------\u001b[0m",
      "\u001b[1;31mNameError\u001b[0m                                 Traceback (most recent call last)",
      "Cell \u001b[1;32mIn[6], line 1\u001b[0m\n\u001b[1;32m----> 1\u001b[0m \u001b[38;5;28mprint\u001b[39m(students[\u001b[38;5;241m1\u001b[39m])\n",
      "\u001b[1;31mNameError\u001b[0m: name 'students' is not defined"
     ]
    }
   ],
   "source": [
    "print(students[1])"
   ]
  },
  {
   "cell_type": "code",
   "execution_count": 8,
   "id": "57e6d79d-d2b8-4b02-928f-c10521e59f45",
   "metadata": {},
   "outputs": [
    {
     "name": "stdout",
     "output_type": "stream",
     "text": [
      "{'name': 'anurag', 'age': 25, 'marks': 80}\n"
     ]
    }
   ],
   "source": [
    "d1={'name':'anurag','age':25,'marks':80}\n",
    "print(d1)"
   ]
  },
  {
   "cell_type": "code",
   "execution_count": 9,
   "id": "e03503eb-9fc0-470e-bb22-5113e955fe65",
   "metadata": {},
   "outputs": [],
   "source": [
    "d1.clear()"
   ]
  },
  {
   "cell_type": "code",
   "execution_count": 10,
   "id": "89fc94cd-5f2e-439b-af3c-3ac36b29b6d3",
   "metadata": {},
   "outputs": [
    {
     "name": "stdout",
     "output_type": "stream",
     "text": [
      "{}\n"
     ]
    }
   ],
   "source": [
    "print(d1)"
   ]
  },
  {
   "cell_type": "code",
   "execution_count": 14,
   "id": "1f980d98-5815-45e8-b823-d31fb6042ccf",
   "metadata": {},
   "outputs": [
    {
     "name": "stdout",
     "output_type": "stream",
     "text": [
      "{'I': 1, 'II': 2, 'III': 3, 'V': 5}\n"
     ]
    }
   ],
   "source": [
    "#copy method\n",
    "anurag={'I':1,'II':2,'III':3,'IV':4,'V':5}\n",
    "newanurag=anurag.copy()\n",
    "del anurag['IV']\n",
    "print(anurag)\n",
    "\n",
    "        "
   ]
  },
  {
   "cell_type": "code",
   "execution_count": 15,
   "id": "5e62957c-745e-4bbe-9aff-31e9985fbe91",
   "metadata": {},
   "outputs": [
    {
     "name": "stdout",
     "output_type": "stream",
     "text": [
      "{'kolkata': 'city', 'lucknow': 'city', 'mumbai': 'city', 'banglore': 'city'}\n"
     ]
    }
   ],
   "source": [
    "#fromkeys method\n",
    "keys={'mumbai','banglore','kolkata','lucknow'}\n",
    "value='city'\n",
    "keys2=dict.fromkeys(keys, value)\n",
    "print(keys2)\n"
   ]
  },
  {
   "cell_type": "code",
   "execution_count": 17,
   "id": "5d2e89b9-ceff-4f06-aa8b-96e6388886bb",
   "metadata": {},
   "outputs": [
    {
     "name": "stdout",
     "output_type": "stream",
     "text": [
      "{'kolkata': None, 'lucknow': None, 'mumbai': None, 'banglore': None}\n"
     ]
    }
   ],
   "source": [
    "keys={'mumbai','banglore','kolkata','lucknow'}\n",
    "#value='city'\n",
    "keys2=dict.fromkeys(keys)\n",
    "print(keys2)\n"
   ]
  },
  {
   "cell_type": "code",
   "execution_count": 18,
   "id": "ef4344e6-075e-4297-9a74-3d433a040b17",
   "metadata": {},
   "outputs": [
    {
     "name": "stdout",
     "output_type": "stream",
     "text": [
      "dict_items([('I', 1), ('II', 2), ('III', 3)])\n"
     ]
    }
   ],
   "source": [
    "#items methods\n",
    "anurag={'I':1,'II':2,'III':3}\n",
    "anurag2=anurag.items()\n",
    "print(anurag2)"
   ]
  },
  {
   "cell_type": "code",
   "execution_count": 19,
   "id": "1e6283bc-62d1-43cb-857e-b2f205f44075",
   "metadata": {},
   "outputs": [
    {
     "name": "stdout",
     "output_type": "stream",
     "text": [
      "dict_keys(['I', 'II', 'III'])\n"
     ]
    }
   ],
   "source": [
    "#keys method \n",
    "anurag={'I':1,'II':2,'III':3}\n",
    "anurag2=anurag.keys()\n",
    "print(anurag2)\n"
   ]
  },
  {
   "cell_type": "code",
   "execution_count": 15,
   "id": "47d69eac-967b-4415-abca-08966dc06da8",
   "metadata": {},
   "outputs": [
    {
     "name": "stdout",
     "output_type": "stream",
     "text": [
      "{'I': 1, 'II': 2, 'III': 3, 'IV': 4, 'V': 5}\n",
      "{'VI': 6}\n"
     ]
    }
   ],
   "source": [
    "#copy method\n",
    "anurag={'I':1,'II':2,'III':3,'IV':4,'V':5}\n",
    "newanurag=anurag.copy()\n",
    "print(anurag)\n",
    "newanurag={\"VI\":6}\n",
    "print(newanurag)\n",
    "\n",
    "        "
   ]
  },
  {
   "cell_type": "code",
   "execution_count": 23,
   "id": "fa135b4b-d125-464f-b8dc-d6559d5a4174",
   "metadata": {},
   "outputs": [
    {
     "name": "stdout",
     "output_type": "stream",
     "text": [
      "4\n",
      "update dictionary  {'I': 1, 'II': 2, 'III': 3}\n"
     ]
    }
   ],
   "source": [
    "#pop method\n",
    "romannum={'I':1,'II':2,'III':3,'IV':4}\n",
    "deletevalue=romannum.pop('IV')\n",
    "print(deletevalue)\n",
    "print(\"update dictionary \",romannum)"
   ]
  },
  {
   "cell_type": "code",
   "execution_count": 21,
   "id": "fd1dad50-049d-4565-8085-6af13c3c6ee1",
   "metadata": {},
   "outputs": [
    {
     "name": "stdout",
     "output_type": "stream",
     "text": [
      "not found\n",
      "update dictionary  {'I': 1, 'II': 2, 'III': 3, 'IV': 4}\n"
     ]
    }
   ],
   "source": [
    "romannum={'I':1,'II':2,'III':3,'IV':4}\n",
    "deletevalue=romannum.pop('V','not found')\n",
    "print(deletevalue)\n",
    "print(\"update dictionary \",romannum)"
   ]
  },
  {
   "cell_type": "code",
   "execution_count": 31,
   "id": "ad00103a-b165-4a78-a2cb-8d4a85549537",
   "metadata": {},
   "outputs": [
    {
     "name": "stdout",
     "output_type": "stream",
     "text": [
      "update dictionary  {'I': 1, 'II': 2, 'III': 3}\n"
     ]
    }
   ],
   "source": [
    "romannum={'I':1,'II':2,'III':3,'IV':4}\n",
    "romannum.popitem()\n",
    "#print(deletevalue)\n",
    "print(\"update dictionary \",romannum)"
   ]
  },
  {
   "cell_type": "code",
   "execution_count": 29,
   "id": "6b03654d-d3e8-49e3-b33b-90f7746f2eb3",
   "metadata": {},
   "outputs": [
    {
     "name": "stdout",
     "output_type": "stream",
     "text": [
      "update dictionary  {'I': 1}\n"
     ]
    }
   ],
   "source": [
    "#popitem\n",
    "romannum={'I':1,'II':2,'III':3,'IV':4}\n",
    "romannum.popitem()\n",
    "romannum.popitem()\n",
    "romannum.popitem()\n",
    "#print(deletevalue)\n",
    "print(\"update dictionary \",romannum)"
   ]
  },
  {
   "cell_type": "code",
   "execution_count": 36,
   "id": "27b4183f-52fe-462f-9f7b-c8761c727c61",
   "metadata": {},
   "outputs": [
    {
     "name": "stdout",
     "output_type": "stream",
     "text": [
      "{'V': 1, 'VI': 2, 'VII': 3}\n",
      "{'I': 1, 'II': 2, 'III': 3, 'IV': 4}\n",
      "{'V': 1, 'VI': 2, 'VII': 3, 'I': 1, 'II': 2, 'III': 3, 'IV': 4}\n"
     ]
    }
   ],
   "source": [
    "#update method\n",
    "\n",
    "anurag={'V':1,'VI':2,'VII':3}\n",
    "print(anurag)\n",
    "anurag2={'I':1,'II':2,'III':3,'IV':4}\n",
    "print(anurag2)\n",
    "anurag.update(anurag2)\n",
    "print(anurag)\n",
    "         \n",
    "         "
   ]
  },
  {
   "cell_type": "code",
   "execution_count": 37,
   "id": "a247f0f4-28e1-42c2-bbfd-f57a89bdfde6",
   "metadata": {},
   "outputs": [
    {
     "name": "stdout",
     "output_type": "stream",
     "text": [
      "dict_values([1, 2, 3])\n"
     ]
    }
   ],
   "source": [
    "#dictionary value\n",
    "anurag={'V':1,'VI':2,'VII':3}\n",
    "values=anurag.values()\n",
    "print(values)"
   ]
  },
  {
   "cell_type": "code",
   "execution_count": 2,
   "id": "f831b3fc-7d6f-4df2-8ac5-7b5f3ae8f132",
   "metadata": {},
   "outputs": [
    {
     "name": "stdout",
     "output_type": "stream",
     "text": [
      "{'age': 2}\n"
     ]
    }
   ],
   "source": [
    "anurag={'age':2}\n",
    "print(anurag)"
   ]
  },
  {
   "cell_type": "code",
   "execution_count": 6,
   "id": "8011e438-c60c-4173-b2b0-28c1d53872eb",
   "metadata": {},
   "outputs": [
    {
     "ename": "NameError",
     "evalue": "name 'd1' is not defined",
     "output_type": "error",
     "traceback": [
      "\u001b[1;31m---------------------------------------------------------------------------\u001b[0m",
      "\u001b[1;31mNameError\u001b[0m                                 Traceback (most recent call last)",
      "Cell \u001b[1;32mIn[6], line 3\u001b[0m\n\u001b[0;32m      1\u001b[0m D1\u001b[38;5;241m=\u001b[39m{\u001b[38;5;124m\"\u001b[39m\u001b[38;5;124ma\u001b[39m\u001b[38;5;124m\"\u001b[39m:\u001b[38;5;241m50\u001b[39m,\u001b[38;5;124m\"\u001b[39m\u001b[38;5;124mb\u001b[39m\u001b[38;5;124m\"\u001b[39m:\u001b[38;5;241m50\u001b[39m}\n\u001b[0;32m      2\u001b[0m d2\u001b[38;5;241m=\u001b[39m{\u001b[38;5;124m\"\u001b[39m\u001b[38;5;124ma\u001b[39m\u001b[38;5;124m\"\u001b[39m:\u001b[38;5;241m500\u001b[39m,\u001b[38;5;124m\"\u001b[39m\u001b[38;5;124mb\u001b[39m\u001b[38;5;124m\"\u001b[39m:\u001b[38;5;241m50\u001b[39m}\n\u001b[1;32m----> 3\u001b[0m \u001b[38;5;28mprint\u001b[39m(d1\u001b[38;5;241m>\u001b[39md2)\n",
      "\u001b[1;31mNameError\u001b[0m: name 'd1' is not defined"
     ]
    }
   ],
   "source": [
    "D1={\"a\":50,\"b\":50}\n",
    "d2={\"a\":500,\"b\":50}\n",
    "print(d1>d2)"
   ]
  },
  {
   "cell_type": "code",
   "execution_count": 7,
   "id": "19da3eb8-7cf3-4467-93cf-15d8c8c4ca39",
   "metadata": {},
   "outputs": [
    {
     "name": "stdout",
     "output_type": "stream",
     "text": [
      "twoone\n"
     ]
    }
   ],
   "source": [
    "A={1:\"one\",2:\"two\",3:\"three\"}\n",
    "print(A[2]+A[1])"
   ]
  },
  {
   "cell_type": "code",
   "execution_count": 9,
   "id": "e173ef69-151a-4f52-9bd0-0ea980c3b2ff",
   "metadata": {},
   "outputs": [
    {
     "name": "stdout",
     "output_type": "stream",
     "text": [
      "False\n"
     ]
    }
   ],
   "source": [
    "A={1:\"one\",2:\"two\",3:\"three\"}\n",
    "print(\"one\"in A)"
   ]
  },
  {
   "cell_type": "code",
   "execution_count": 11,
   "id": "e2c7fbc4-c3a7-440a-a2b1-ace01b0c177a",
   "metadata": {},
   "outputs": [
    {
     "name": "stdout",
     "output_type": "stream",
     "text": [
      "True\n"
     ]
    }
   ],
   "source": [
    "A={1:\"one\",2:\"two\",3:\"three\"}\n",
    "print(1 in A)"
   ]
  },
  {
   "cell_type": "code",
   "execution_count": 12,
   "id": "f154a5a0-ffa8-4c41-bca4-eb0c72a42e7c",
   "metadata": {},
   "outputs": [
    {
     "ename": "SyntaxError",
     "evalue": "invalid syntax (3779314788.py, line 1)",
     "output_type": "error",
     "traceback": [
      "\u001b[1;36m  Cell \u001b[1;32mIn[12], line 1\u001b[1;36m\u001b[0m\n\u001b[1;33m    A{\"A\":\"Apple\",\"B\":\"Ball\",\"C\":\"Cat\"}\u001b[0m\n\u001b[1;37m     ^\u001b[0m\n\u001b[1;31mSyntaxError\u001b[0m\u001b[1;31m:\u001b[0m invalid syntax\n"
     ]
    }
   ],
   "source": [
    "A{\"A\":\"Apple\",\"B\":\"Ball\",\"C\":\"Cat\"}\n",
    "print(A in A)"
   ]
  },
  {
   "cell_type": "code",
   "execution_count": 16,
   "id": "119b1eff-f449-49fe-85ec-352e4e3e1c29",
   "metadata": {},
   "outputs": [
    {
     "name": "stdout",
     "output_type": "stream",
     "text": [
      "[1, 2, 3]\n"
     ]
    }
   ],
   "source": [
    "D={1:'amit',2:'suman',3:'ravi'}\n",
    "print(list(D))"
   ]
  },
  {
   "cell_type": "code",
   "execution_count": 17,
   "id": "b6f03ba6-daba-47a4-bca4-a7f57648290d",
   "metadata": {},
   "outputs": [
    {
     "ename": "SyntaxError",
     "evalue": "':' expected after dictionary key (3779850845.py, line 1)",
     "output_type": "error",
     "traceback": [
      "\u001b[1;36m  Cell \u001b[1;32mIn[17], line 1\u001b[1;36m\u001b[0m\n\u001b[1;33m    D={1:['anil',23,21],2['suman',244,55],3:'ravi'4:'anurag'}\u001b[0m\n\u001b[1;37m                                        ^\u001b[0m\n\u001b[1;31mSyntaxError\u001b[0m\u001b[1;31m:\u001b[0m ':' expected after dictionary key\n"
     ]
    }
   ],
   "source": [
    "D={1:['anil',23,21],2['suman',244,55],3:'ravi'4:'anurag'}\n",
    "#m=D.get[2]\n",
    "print(m[2])"
   ]
  },
  {
   "cell_type": "code",
   "execution_count": 20,
   "id": "3440d12f-d286-416f-8393-96af52dff29a",
   "metadata": {},
   "outputs": [
    {
     "name": "stdout",
     "output_type": "stream",
     "text": [
      "False\n"
     ]
    }
   ],
   "source": [
    "D={1:['amit',23,21],2:['suman',45,34],3:'ravi',4:'anurag'}\n",
    "print(\"amit\"in D)"
   ]
  },
  {
   "cell_type": "code",
   "execution_count": null,
   "id": "676447f8-83b9-4f1e-b808-ad0c2056e782",
   "metadata": {},
   "outputs": [],
   "source": []
  }
 ],
 "metadata": {
  "kernelspec": {
   "display_name": "Python 3 (ipykernel)",
   "language": "python",
   "name": "python3"
  },
  "language_info": {
   "codemirror_mode": {
    "name": "ipython",
    "version": 3
   },
   "file_extension": ".py",
   "mimetype": "text/x-python",
   "name": "python",
   "nbconvert_exporter": "python",
   "pygments_lexer": "ipython3",
   "version": "3.11.7"
  }
 },
 "nbformat": 4,
 "nbformat_minor": 5
}
