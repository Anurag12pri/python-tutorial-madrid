{
 "cells": [
  {
   "cell_type": "code",
   "execution_count": 1,
   "id": "b58ba21e-0bc2-4359-9233-84bf5bd6c31e",
   "metadata": {},
   "outputs": [
    {
     "name": "stdin",
     "output_type": "stream",
     "text": [
      "enter the number by user 5\n"
     ]
    },
    {
     "name": "stdout",
     "output_type": "stream",
     "text": [
      "not valid number\n"
     ]
    }
   ],
   "source": [
    "\n",
    "n=float(input(\"enter the number by user\"))\n",
    "if n>=10:\n",
    "        print(\"valid number\")\n",
    "else:\n",
    "        print(\"not valid number\")\n",
    "    \n",
    "    "
   ]
  },
  {
   "cell_type": "code",
   "execution_count": 26,
   "id": "fcfcf124-ff7c-4b27-a1fa-2ffdce11ab28",
   "metadata": {},
   "outputs": [
    {
     "name": "stdin",
     "output_type": "stream",
     "text": [
      "enter the number 0\n"
     ]
    },
    {
     "name": "stdout",
     "output_type": "stream",
     "text": [
      "number is zero\n"
     ]
    }
   ],
   "source": [
    "n=int(input(\"enter the number\"))\n",
    "if n>0:\n",
    "    print(\"+ve number\")\n",
    "if n<0:\n",
    "    print(\"-ve number\")\n",
    "if n==0:\n",
    "    print(\"number is zero\")\n",
    "    \n",
    "    "
   ]
  },
  {
   "cell_type": "code",
   "execution_count": 34,
   "id": "11901f08-7c7f-4324-b5e0-d1d3ab1104ed",
   "metadata": {},
   "outputs": [
    {
     "name": "stdin",
     "output_type": "stream",
     "text": [
      "enter the number by use 1\n"
     ]
    },
    {
     "name": "stdout",
     "output_type": "stream",
     "text": [
      "odd number\n"
     ]
    }
   ],
   "source": [
    "# check even/odd number\n",
    "n=int(input(\"enter the number by use\"))\n",
    "if n%2==0:\n",
    "    print(\"even number\")\n",
    "else:\n",
    "    print(\"odd number\")\n",
    "\n"
   ]
  },
  {
   "cell_type": "code",
   "execution_count": 42,
   "id": "7bca94ac-8136-44ef-9115-6c50d25d76a7",
   "metadata": {},
   "outputs": [
    {
     "name": "stdin",
     "output_type": "stream",
     "text": [
      "enter the year by user 2024\n"
     ]
    },
    {
     "name": "stdout",
     "output_type": "stream",
     "text": [
      "it is a leap year\n"
     ]
    }
   ],
   "source": [
    "# check leap year\n",
    "leap_year=int(input(\"enter the year by user\"))\n",
    "if leap_year%4==0:\n",
    "    print(\"it is a leap year\")\n",
    "else:\n",
    "    print(\"it is not a leap year\")\n"
   ]
  },
  {
   "cell_type": "code",
   "execution_count": 41,
   "id": "ccd7a15d-9bf7-4f62-9999-d590b3490d9b",
   "metadata": {},
   "outputs": [
    {
     "name": "stdin",
     "output_type": "stream",
     "text": [
      "enter the age of person 66\n"
     ]
    },
    {
     "name": "stdout",
     "output_type": "stream",
     "text": [
      "elligible for vote\n"
     ]
    }
   ],
   "source": [
    "# check elligibililty for vote \n",
    "a=int(input(\"enter the age of person\"))\n",
    "if a>=18:\n",
    "    print(\"elligible for vote\")\n",
    "else:\n",
    "    print(\"not elligible for vote\")\n",
    "\n"
   ]
  },
  {
   "cell_type": "code",
   "execution_count": 50,
   "id": "b96f3c8e-79f0-4cbc-a2df-f1c22c34e27e",
   "metadata": {},
   "outputs": [
    {
     "name": "stdin",
     "output_type": "stream",
     "text": [
      "ENTER THE DAY BY USER 3\n"
     ]
    },
    {
     "name": "stdout",
     "output_type": "stream",
     "text": [
      "sat\n"
     ]
    }
   ],
   "source": [
    "# if elif else example \n",
    "day=int(input(\"ENTER THE DAY BY USER\"))\n",
    "if day==1:\n",
    "   print(\"sun\")\n",
    "elif day==3:\n",
    "   print(\"sat\")\n",
    "elif day==7:\n",
    "   print(\"tue\")\n",
    "elif day==6:\n",
    "   print(\"wed\")\n",
    "else:\n",
    "   print(\"not choice\")\n"
   ]
  },
  {
   "cell_type": "code",
   "execution_count": 65,
   "id": "a222b297-5c8a-4776-8e97-07274541aaf5",
   "metadata": {},
   "outputs": [
    {
     "name": "stdin",
     "output_type": "stream",
     "text": [
      "enter the marks of student 20\n",
      "enter the marks of student 20\n",
      "enter the marks of student 20.5\n",
      "enter the marks of student 20.5\n"
     ]
    },
    {
     "name": "stdout",
     "output_type": "stream",
     "text": [
      "20.25\n",
      "third\n"
     ]
    }
   ],
   "source": [
    "# check division by percentage of student \n",
    "a=float(input(\"enter the marks of student\"))\n",
    "b=float(input(\"enter the marks of student\"))\n",
    "c=float(input(\"enter the marks of student\"))\n",
    "d=float(input(\"enter the marks of student\"))\n",
    "s=a+b+c+d\n",
    "per=s*100/400\n",
    "print(per)\n",
    "if per>=60:\n",
    "    print(\"first\")\n",
    "elif per>=30:\n",
    "    print(\"second\")\n",
    "elif per>=20:\n",
    "    print(\"third\")\n",
    "else:\n",
    "    print(\"fail\")\n",
    "\n",
    "\n"
   ]
  },
  {
   "cell_type": "code",
   "execution_count": 4,
   "id": "5578356a-a5f6-4afd-9694-a4a589549967",
   "metadata": {},
   "outputs": [
    {
     "name": "stdin",
     "output_type": "stream",
     "text": [
      "enter the value 8\n",
      "enter the value 6\n",
      "enter the number 4\n"
     ]
    },
    {
     "name": "stdout",
     "output_type": "stream",
     "text": [
      "a is greater\n"
     ]
    }
   ],
   "source": [
    "a=int(input(\"enter the value\"))\n",
    "b=int(input(\"enter the value\"))\n",
    "c=int(input(\"enter the number\"))\n",
    "if a>b and a>c:\n",
    "    print(\"a is greater\")\n",
    "elif b>a and b>c:\n",
    "    print(\"b is greater\")\n",
    "else:\n",
    "    print(\"c is greater\")\n",
    "\n"
   ]
  },
  {
   "cell_type": "code",
   "execution_count": 48,
   "id": "578f48c4-56b5-4e5b-877a-d8963f346a70",
   "metadata": {},
   "outputs": [
    {
     "name": "stdin",
     "output_type": "stream",
     "text": [
      "enter an alphabet without space h\n"
     ]
    },
    {
     "name": "stdout",
     "output_type": "stream",
     "text": [
      "consonant\n"
     ]
    }
   ],
   "source": [
    "#check vowel or consonant\n",
    "ch=(input(\"enter an alphabet without space\"))\n",
    "if ch=='a'or ch=='e'or ch=='i'or ch=='o'or ch=='u':\n",
    "    print(\"vowel\")\n",
    "elif ch=='A'or ch=='E'or ch=='I' or ch=='O' or ch=='U':\n",
    "    print(\"vowe\")\n",
    "else:\n",
    "    print(\"consonant\")\n",
    "  \n",
    "\n",
    "    "
   ]
  },
  {
   "cell_type": "markdown",
   "id": "566dc81f-3d67-45b6-b86d-b5ae474e611c",
   "metadata": {},
   "source": [
    "###### mini calculator\n",
    "a=int (input(\"enter the number\"))\n",
    "b=int (input (\"enter the number\"))\n",
    "choice=int(input(\"enter the number from above\"))\n",
    "if choice==1:\n",
    "           print(\"sum\",a+b)\n",
    "elif choice==2:\n",
    "     print(\"sub\",a-b)\n",
    "elif choice==3:\n",
    "     print(\"mul\",a*b)\n",
    "elif choice==4:\n",
    "    print(\"div\",a/b)\n",
    "else:\n",
    "    print (\"invalid\")\n"
   ]
  },
  {
   "cell_type": "code",
   "execution_count": null,
   "id": "dec7dd4b-4acc-458d-8312-da2fc4869c2f",
   "metadata": {},
   "outputs": [],
   "source": []
  },
  {
   "cell_type": "code",
   "execution_count": 67,
   "id": "bd88cc08-1e65-4b69-96b2-4f7d2dd48f75",
   "metadata": {},
   "outputs": [
    {
     "name": "stdin",
     "output_type": "stream",
     "text": [
      " enter the number 9\n",
      "enter the number  0\n",
      "enter the number  6\n"
     ]
    },
    {
     "name": "stdout",
     "output_type": "stream",
     "text": [
      "a is greater\n"
     ]
    }
   ],
   "source": [
    "#nested if\n",
    "a=int(input(\" enter the number\"))\n",
    "b=int(input(\"enter the number \"))\n",
    "c=int(input(\"enter the number \"))\n",
    "if a>b:\n",
    "    if a>c:\n",
    "        print(\"a is greater\")\n",
    "    else:\n",
    "        print(\"c is greater\")\n",
    "        \n",
    "    \n",
    "    \n",
    "    \n",
    "    \n",
    "        \n",
    "     \n",
    "    \n"
   ]
  },
  {
   "cell_type": "code",
   "execution_count": 1,
   "id": "f6c41241-c923-4a73-941e-2d53405b34fb",
   "metadata": {},
   "outputs": [
    {
     "name": "stdout",
     "output_type": "stream",
     "text": [
      "anurag 1\n",
      "anurag 2\n",
      "anurag 3\n",
      "anurag 4\n",
      "anurag 5\n",
      "anurag 6\n",
      "anurag 7\n",
      "anurag 8\n",
      "anurag 9\n",
      "anurag 10\n",
      "anurag 11\n",
      "anurag 12\n",
      "anurag 13\n",
      "anurag 14\n",
      "anurag 15\n",
      "anurag 16\n",
      "anurag 17\n",
      "anurag 18\n",
      "anurag 19\n",
      "anurag 20\n"
     ]
    }
   ],
   "source": [
    "# print your name\n",
    "a=1\n",
    "while a<=20:\n",
    "    print(\"anurag\",a)\n",
    "    a+=1\n"
   ]
  },
  {
   "cell_type": "code",
   "execution_count": 84,
   "id": "327066c4-3855-4acd-80ef-f1851a587229",
   "metadata": {},
   "outputs": [
    {
     "name": "stdout",
     "output_type": "stream",
     "text": [
      "1   =          anuarg                   , \n",
      "2   =          anuarg                   , \n",
      "3   =          anuarg                   , \n",
      "4   =          anuarg                   , \n",
      "5   =          anuarg                   , \n",
      "6   =          anuarg                   , \n",
      "7   =          anuarg                   , \n",
      "8   =          anuarg                   , \n",
      "9   =          anuarg                   , \n",
      "10   =          anuarg                   , \n"
     ]
    }
   ],
   "source": [
    "# print first 10 natural number \n",
    "a=1\n",
    "while a<=10:\n",
    "    print(a,\"  =          anuarg                   , \"  )        \n",
    "    a=a+1\n",
    "    \n",
    "    \n",
    "    \n"
   ]
  },
  {
   "cell_type": "code",
   "execution_count": 73,
   "id": "ebcef277-c682-4061-8e64-7627a5abc0c5",
   "metadata": {
    "scrolled": true
   },
   "outputs": [
    {
     "name": "stdout",
     "output_type": "stream",
     "text": [
      "sum is  15\n"
     ]
    }
   ],
   "source": [
    "# sum of first natural number\n",
    "#s=s+i\n",
    "#s=0+1=1\n",
    "#s=1+2=3\n",
    "#s=3+3=6\n",
    "#s=6+4=10\n",
    "#s=10+5=15\n",
    "#s=15+6=21\n",
    "#s=21+7=28\n",
    "#s=28+8=36\n",
    "#s=36+9=45\n",
    "#s=45+10=55\n",
    "i=1\n",
    "s=0\n",
    "while i<=5:\n",
    "    \n",
    "    s=s+i\n",
    "    i+=1\n",
    "print(\"sum is \",s)\n"
   ]
  },
  {
   "cell_type": "code",
   "execution_count": 6,
   "id": "4808ec9e-d904-49fd-b122-f3759cf9b6d3",
   "metadata": {},
   "outputs": [
    {
     "name": "stdin",
     "output_type": "stream",
     "text": [
      "enter the stop value 88\n"
     ]
    },
    {
     "name": "stdout",
     "output_type": "stream",
     "text": [
      "odd number\n"
     ]
    }
   ],
   "source": [
    "#print first n even number\n",
    "n=int(input(\"enter the stop value\"))\n",
    "i=1\n",
    "while i<=n:\n",
    "    if i%2==1:\n",
    "        print(\"odd number\")\n",
    "        break\n",
    "    else: \n",
    "        print(\"even number\")\n",
    "\n",
    "    i=i+1\n",
    "\n",
    "\n"
   ]
  },
  {
   "cell_type": "code",
   "execution_count": 7,
   "id": "8d090b72-d654-49d9-96fb-cc5fbe1c052b",
   "metadata": {},
   "outputs": [
    {
     "name": "stdin",
     "output_type": "stream",
     "text": [
      "enter the stop value 6\n"
     ]
    },
    {
     "name": "stdout",
     "output_type": "stream",
     "text": [
      "sum of even numbr is  12\n",
      "sum of odd number is 9\n"
     ]
    }
   ],
   "source": [
    "n=int(input(\"enter the stop value\"))\n",
    "i=1\n",
    "se=0\n",
    "so=0\n",
    "while i<=n:\n",
    "    if i%2==0:\n",
    "       se=se+i\n",
    "    else:\n",
    "        so=so+i\n",
    "    i=i+1\n",
    "print(\"sum of even numbr is \",se)\n",
    "print(\"sum of odd number is\",so)\n",
    "    "
   ]
  },
  {
   "cell_type": "code",
   "execution_count": 75,
   "id": "de5e0381-72d9-4e03-8be1-cc2a04640cf3",
   "metadata": {},
   "outputs": [
    {
     "name": "stdin",
     "output_type": "stream",
     "text": [
      "enter the numeber 7\n"
     ]
    },
    {
     "name": "stdout",
     "output_type": "stream",
     "text": [
      "the factorial is  5040\n"
     ]
    }
   ],
   "source": [
    "#factorial of a given number\n",
    "#while loop statement\n",
    "n=int(input(\"enter the numeber\"))\n",
    "f=1\n",
    "while n>0:\n",
    "    f=f*n\n",
    "    n=n-1\n",
    "print(\"the factorial is \",f)"
   ]
  },
  {
   "cell_type": "code",
   "execution_count": 8,
   "id": "d0cea65d-5e91-4f3e-93ed-d9efea7d33da",
   "metadata": {},
   "outputs": [
    {
     "name": "stdin",
     "output_type": "stream",
     "text": [
      "enter the number 24\n"
     ]
    },
    {
     "name": "stdout",
     "output_type": "stream",
     "text": [
      "5 7 9 10 11 13 14 15 16 17 18 19 20 21 22 23 "
     ]
    }
   ],
   "source": [
    "#factor or divisior of given number\n",
    "#24---1 2 3 4 6 8 12 24\n",
    "#i=1\n",
    "n=int(input(\"enter the number\"))\n",
    "for i in range (1,n+1):\n",
    "    if n%i!=0:\n",
    "      print(i,end=\" \")\n",
    "    \n"
   ]
  },
  {
   "cell_type": "code",
   "execution_count": 1,
   "id": "820d5ead-870f-459b-9482-d11298b2dded",
   "metadata": {},
   "outputs": [
    {
     "name": "stdout",
     "output_type": "stream",
     "text": [
      "not a prime number\n"
     ]
    }
   ],
   "source": [
    "#prime number (divisible 1 and itself)\n",
    "i=1\n",
    "n=10#int(input(\"enter the value\"))\n",
    "co=0\n",
    "while i<=n:\n",
    "    if n%i==0:\n",
    "        co=co+1\n",
    "    i=i+1\n",
    "if co==2:\n",
    "    print(\"prime number\")\n",
    "else:\n",
    "    print(\"not a prime number\")"
   ]
  },
  {
   "cell_type": "code",
   "execution_count": 3,
   "id": "cdeaf554-2468-4ec2-87dd-74b221edd1ca",
   "metadata": {},
   "outputs": [
    {
     "name": "stdin",
     "output_type": "stream",
     "text": [
      "enter the number 3\n"
     ]
    },
    {
     "name": "stdout",
     "output_type": "stream",
     "text": [
      "3 * 1 = 3\n",
      "3 * 2 = 6\n",
      "3 * 3 = 9\n",
      "3 * 4 = 12\n",
      "3 * 5 = 15\n",
      "3 * 6 = 18\n",
      "3 * 7 = 21\n",
      "3 * 8 = 24\n",
      "3 * 9 = 27\n",
      "3 * 10 = 30\n"
     ]
    }
   ],
   "source": [
    "# table of a given number \n",
    "i=1\n",
    "n=int(input(\"enter the number\"))\n",
    "while i<=10:\n",
    "    print(n,\"*\",i,\"=\",n*i)\n",
    "    i=i+1\n",
    "    "
   ]
  },
  {
   "cell_type": "code",
   "execution_count": 14,
   "id": "c2fe1929-7ad9-49e3-8889-2715d19bfb86",
   "metadata": {},
   "outputs": [
    {
     "name": "stdin",
     "output_type": "stream",
     "text": [
      "enter the number 777\n"
     ]
    },
    {
     "name": "stdout",
     "output_type": "stream",
     "text": [
      "the sum of digit is  21\n"
     ]
    }
   ],
   "source": [
    "#sum of  digit of a number \n",
    "#7895--7+8+9+5\n",
    "#n=7895\n",
    "#rem=n%10\n",
    "#s+rem\n",
    "#n=n//10\n",
    "#rem=5\n",
    "#s=0+5=5\n",
    "#n=789\n",
    "#rem=9\n",
    "#s=5+9=14\n",
    "#n=78\n",
    "#rem=8\n",
    "#s=14+8=22\n",
    "#n=7\n",
    "n=int(input(\"enter the number\"))\n",
    "s=0\n",
    "while n>0:\n",
    "    rem=n%10\n",
    "    s=s+rem\n",
    "    n=n//10\n",
    "print(\"the sum of digit is \",s)\n"
   ]
  },
  {
   "cell_type": "code",
   "execution_count": 2,
   "id": "e4b667f3-690d-4f77-af33-35b7f4df3b09",
   "metadata": {},
   "outputs": [
    {
     "name": "stdin",
     "output_type": "stream",
     "text": [
      "enter the number 345\n"
     ]
    },
    {
     "name": "stdout",
     "output_type": "stream",
     "text": [
      "the reverse is 543\n"
     ]
    }
   ],
   "source": [
    "#reverse of the number\n",
    "#n=72\n",
    "#rem=2\n",
    "#\n",
    "n=int(input(\"enter the number\"))\n",
    "rev=0\n",
    "while n>0:\n",
    "    rem=n%10\n",
    "    rev=rev*10+rem\n",
    "    n=n//10\n",
    "print(\"the reverse is\",rev)\n",
    "    \n",
    "    "
   ]
  },
  {
   "cell_type": "code",
   "execution_count": 4,
   "id": "ecaa7d4f-8398-4e61-b76c-23ff649452a3",
   "metadata": {},
   "outputs": [
    {
     "name": "stdin",
     "output_type": "stream",
     "text": [
      "enter the number 234\n"
     ]
    },
    {
     "name": "stdout",
     "output_type": "stream",
     "text": [
      "not pallendrome number\n"
     ]
    }
   ],
   "source": [
    "#pallendrome number\n",
    "n=int(input(\"enter the number\"))\n",
    "rev=0\n",
    "n1=n\n",
    "while n>0:\n",
    "    rem=n%10\n",
    "    rev=rev*10+rem\n",
    "    n=n//10\n",
    "if n1==rev:\n",
    "    print(\"pallendrome number\")\n",
    "else:\n",
    "    print(\"not pallendrome number\")"
   ]
  },
  {
   "cell_type": "code",
   "execution_count": 3,
   "id": "29cbde4e-437b-4e1b-809a-0049b52532fe",
   "metadata": {},
   "outputs": [
    {
     "name": "stdout",
     "output_type": "stream",
     "text": [
      "A n u r a g "
     ]
    }
   ],
   "source": [
    "#for loop\n",
    "#-------------\n",
    "for i in \"Anurag\":\n",
    "    print(i,end=' ')"
   ]
  },
  {
   "cell_type": "code",
   "execution_count": 11,
   "id": "fe1d8dcc-4b87-4a61-adbe-35d1ac26cae5",
   "metadata": {},
   "outputs": [
    {
     "name": "stdout",
     "output_type": "stream",
     "text": [
      "12\n",
      "23\n",
      "34\n",
      "44\n",
      "55\n",
      "66\n"
     ]
    }
   ],
   "source": [
    "ls=[12,23,34,44,55,66,]\n",
    "for i in ls:\n",
    "    print(i)"
   ]
  },
  {
   "cell_type": "code",
   "execution_count": 20,
   "id": "5711b4f0-f195-4e33-a370-71607356472d",
   "metadata": {},
   "outputs": [
    {
     "name": "stdout",
     "output_type": "stream",
     "text": [
      "i\n",
      "u\n",
      "a\n",
      "a\n",
      "u\n",
      "a\n"
     ]
    }
   ],
   "source": [
    "for i in \"Tiruvantampuram\":\n",
    "    if i in ['a','e','i','o','u']:\n",
    "       print(i)\n",
    "        \n",
    "    "
   ]
  },
  {
   "cell_type": "code",
   "execution_count": 23,
   "id": "613ad28a-88bd-4e72-90f2-27542c2d3e6c",
   "metadata": {},
   "outputs": [
    {
     "name": "stdout",
     "output_type": "stream",
     "text": [
      "e\n",
      "a\n",
      "i\n",
      "a\n",
      "i\n",
      "o\n"
     ]
    }
   ],
   "source": [
    "vowel=['a','e','i','o','u']\n",
    "for i in \"examination\":\n",
    "    if i in vowel:\n",
    "        print(i)\n",
    "    "
   ]
  },
  {
   "cell_type": "code",
   "execution_count": 24,
   "id": "a0d5faec-0dbc-4af9-94c1-e3999169426f",
   "metadata": {},
   "outputs": [
    {
     "name": "stdout",
     "output_type": "stream",
     "text": [
      "0\n",
      "1\n",
      "2\n",
      "3\n",
      "4\n",
      "5\n",
      "6\n",
      "7\n",
      "8\n",
      "9\n"
     ]
    }
   ],
   "source": [
    "#range\n",
    "\n",
    "#range(1,10)  1--9\n",
    "#range(1,100,3)  1---4---7--10---99\n",
    "#range(start ,end , step)\n",
    "\n",
    "for i in range(10):\n",
    "    print(i)\n",
    "\n",
    "\n"
   ]
  },
  {
   "cell_type": "code",
   "execution_count": 25,
   "id": "ec12dc5b-3aad-44d7-b0de-2f40754004f4",
   "metadata": {},
   "outputs": [
    {
     "name": "stdout",
     "output_type": "stream",
     "text": [
      "1\n",
      "2\n",
      "3\n",
      "4\n",
      "5\n",
      "6\n",
      "7\n",
      "8\n",
      "9\n"
     ]
    }
   ],
   "source": [
    "for i in range(1,10):\n",
    "    print(i)"
   ]
  },
  {
   "cell_type": "code",
   "execution_count": 26,
   "id": "3d52b9f8-7075-492c-b21d-aef408ec82c0",
   "metadata": {},
   "outputs": [
    {
     "name": "stdout",
     "output_type": "stream",
     "text": [
      "1\n",
      "4\n",
      "7\n",
      "10\n",
      "13\n",
      "16\n",
      "19\n",
      "22\n",
      "25\n",
      "28\n",
      "31\n",
      "34\n",
      "37\n",
      "40\n",
      "43\n",
      "46\n",
      "49\n",
      "52\n",
      "55\n",
      "58\n",
      "61\n",
      "64\n",
      "67\n",
      "70\n",
      "73\n",
      "76\n",
      "79\n",
      "82\n",
      "85\n",
      "88\n",
      "91\n",
      "94\n",
      "97\n"
     ]
    }
   ],
   "source": [
    "for i in range(1,100,3):\n",
    "    print(i)"
   ]
  },
  {
   "cell_type": "code",
   "execution_count": 28,
   "id": "4e484175-dcff-43cf-ad5e-b5959950cef2",
   "metadata": {},
   "outputs": [
    {
     "name": "stdout",
     "output_type": "stream",
     "text": [
      "anurqag\n",
      "anurqag\n",
      "anurqag\n",
      "anurqag\n",
      "anurqag\n",
      "anurqag\n",
      "anurqag\n",
      "anurqag\n",
      "anurqag\n",
      "anurqag\n"
     ]
    }
   ],
   "source": [
    "for i in range(10):\n",
    "    print(\"anurqag\")\n"
   ]
  },
  {
   "cell_type": "code",
   "execution_count": 98,
   "id": "00ad60f7-16be-49f7-bc29-6d669ef3970b",
   "metadata": {},
   "outputs": [
    {
     "name": "stdout",
     "output_type": "stream",
     "text": [
      "2 4 6 8 10 12 14 16 18 20 22 24 26 28 30 32 34 36 38 40 42 44 46 48 50 52 54 56 58 60 62 64 66 68 70 72 74 76 78 80 82 84 86 88 90 92 94 96 98 "
     ]
    }
   ],
   "source": [
    "#print only even numbers from 1--100\n",
    "for even in range(1,100):\n",
    "    if even%2==0:\n",
    "        print(even,end=\" \")"
   ]
  },
  {
   "cell_type": "code",
   "execution_count": 100,
   "id": "1abd1284-cdcc-4a02-9c63-0225fc4bc2ae",
   "metadata": {},
   "outputs": [
    {
     "name": "stdin",
     "output_type": "stream",
     "text": [
      "enter the number 3\n"
     ]
    },
    {
     "name": "stdout",
     "output_type": "stream",
     "text": [
      "3\n",
      "6\n",
      "9\n",
      "12\n",
      "15\n",
      "18\n",
      "21\n",
      "24\n",
      "27\n",
      "30\n"
     ]
    }
   ],
   "source": [
    "#table of a given number \n",
    "n=int(input(\"enter the number\"))\n",
    "for i in range(1,11):\n",
    "    print(n*i)"
   ]
  },
  {
   "cell_type": "code",
   "execution_count": 33,
   "id": "7c0c3cd3-ae46-4cb7-a28a-0bc74d4bc18d",
   "metadata": {},
   "outputs": [
    {
     "name": "stdin",
     "output_type": "stream",
     "text": [
      "enter the number 44\n"
     ]
    },
    {
     "name": "stdout",
     "output_type": "stream",
     "text": [
      "1 2 4 11 22 44 "
     ]
    }
   ],
   "source": [
    "#prime factor of given number\n",
    "n=int(input(\"enter the number\"))\n",
    "for i in range(1,n+1):\n",
    "    if n%i==0:\n",
    "        print(i,end=\" \")"
   ]
  },
  {
   "cell_type": "code",
   "execution_count": 34,
   "id": "bd455094-8e5e-40b4-94ba-06471c74d0f8",
   "metadata": {},
   "outputs": [
    {
     "name": "stdin",
     "output_type": "stream",
     "text": [
      "enter the number 7\n"
     ]
    },
    {
     "name": "stdout",
     "output_type": "stream",
     "text": [
      "the factorial is  7\n",
      "the factorial is  42\n",
      "the factorial is  210\n",
      "the factorial is  840\n",
      "the factorial is  2520\n",
      "the factorial is  5040\n",
      "the factorial is  5040\n"
     ]
    }
   ],
   "source": [
    "#factorial  f=1*7,7*6,42*5,\n",
    "n=int(input(\"enter the number\"))\n",
    "f=1\n",
    "for i in range(n,0,-1):\n",
    "    f=f*i\n",
    "    print(\"the factorial is \",f)"
   ]
  },
  {
   "cell_type": "code",
   "execution_count": 2,
   "id": "2dec1b8c-c1c5-4f52-8846-ec23ca731b6f",
   "metadata": {},
   "outputs": [
    {
     "name": "stdin",
     "output_type": "stream",
     "text": [
      "enter the number from above 4\n",
      "enter the number 50\n",
      "enter the number from above 5\n"
     ]
    },
    {
     "name": "stdout",
     "output_type": "stream",
     "text": [
      "div 0.1\n"
     ]
    }
   ],
   "source": [
    "#mini calculator\n",
    "choice=int(input(\"enter the number from above\"))\n",
    "b=int(input (\"enter the number\")) \n",
    "a=int(input(\"enter the number from above\"))\n",
    "if choice==1:\n",
    "    print(\"sum\",a+b) \n",
    "elif choice==2: \n",
    "    print(\"sub\",a-b)\n",
    "elif choice==3: \n",
    "    print(\"mul\",a*b) \n",
    "elif choice==4: \n",
    "    print(\"div\",a/b) \n",
    "else: \n",
    "    print (\"invalid\")\n",
    "\n"
   ]
  },
  {
   "cell_type": "code",
   "execution_count": null,
   "id": "5c9d45f8-dfcb-4788-a91b-737738cfce83",
   "metadata": {},
   "outputs": [],
   "source": []
  }
 ],
 "metadata": {
  "kernelspec": {
   "display_name": "Python 3 (ipykernel)",
   "language": "python",
   "name": "python3"
  },
  "language_info": {
   "codemirror_mode": {
    "name": "ipython",
    "version": 3
   },
   "file_extension": ".py",
   "mimetype": "text/x-python",
   "name": "python",
   "nbconvert_exporter": "python",
   "pygments_lexer": "ipython3",
   "version": "3.11.7"
  }
 },
 "nbformat": 4,
 "nbformat_minor": 5
}
