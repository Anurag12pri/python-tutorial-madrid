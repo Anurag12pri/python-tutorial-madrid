{
 "cells": [
  {
   "cell_type": "code",
   "execution_count": 9,
   "id": "959d4cf5-4fb7-4c47-9f95-64d1718e94f8",
   "metadata": {},
   "outputs": [
    {
     "name": "stdout",
     "output_type": "stream",
     "text": [
      "['hello']\n"
     ]
    }
   ],
   "source": [
    "ls=list((\"hello\",))\n",
    "print(ls)"
   ]
  },
  {
   "cell_type": "code",
   "execution_count": 15,
   "id": "f7eecdc3-078e-4dfd-a067-740258f4dd77",
   "metadata": {},
   "outputs": [
    {
     "name": "stdout",
     "output_type": "stream",
     "text": [
      "[12, 23, 3, 4]\n",
      "<class 'list'>\n"
     ]
    }
   ],
   "source": [
    "ls=list((12,23,3,4))\n",
    "print(ls)\n",
    "print(type(ls))"
   ]
  },
  {
   "cell_type": "code",
   "execution_count": 14,
   "id": "ed8c6ab2-2f49-4468-ac5c-b7f0cc875c82",
   "metadata": {},
   "outputs": [
    {
     "data": {
      "text/plain": [
       "[66, 78, 80, 90, 100]"
      ]
     },
     "execution_count": 14,
     "metadata": {},
     "output_type": "execute_result"
    }
   ],
   "source": [
    "#slice operator\n",
    "ls=[12,34,45,66,78,80,90,100,110]\n",
    "ls[3:8]  #3,4,5,6,7\n",
    "\n"
   ]
  },
  {
   "cell_type": "markdown",
   "id": "875a1125-8c55-4752-83d8-a483652db9f7",
   "metadata": {},
   "source": [
    "ls=[22,44,55,66,77,]\n",
    "print(ls)\n",
    "ls[2]='hello'\n",
    "print(ls)"
   ]
  },
  {
   "cell_type": "code",
   "execution_count": 15,
   "id": "6666b0de-19a1-4750-aefa-6ad94dc44dd1",
   "metadata": {},
   "outputs": [
    {
     "data": {
      "text/plain": [
       "[66, 78, 80, 90, 100, 110]"
      ]
     },
     "execution_count": 15,
     "metadata": {},
     "output_type": "execute_result"
    }
   ],
   "source": [
    "ls[3:9]  # 3 4 5 6 7 8"
   ]
  },
  {
   "cell_type": "code",
   "execution_count": 4,
   "id": "9fe52429-90d5-4671-8948-b9bba0ad029c",
   "metadata": {},
   "outputs": [
    {
     "data": {
      "text/plain": [
       "[12, 34, 45, 66, 78, 80, 90, 100]"
      ]
     },
     "execution_count": 4,
     "metadata": {},
     "output_type": "execute_result"
    }
   ],
   "source": [
    "ls[:8]# from the begining"
   ]
  },
  {
   "cell_type": "code",
   "execution_count": 5,
   "id": "006e9ab1-0d0b-4ccd-8fb3-0b4cb4932cdb",
   "metadata": {},
   "outputs": [
    {
     "data": {
      "text/plain": [
       "[66, 78, 80, 90, 100, 110]"
      ]
     },
     "execution_count": 5,
     "metadata": {},
     "output_type": "execute_result"
    }
   ],
   "source": [
    "ls[3:]# start from 3 to the last"
   ]
  },
  {
   "cell_type": "code",
   "execution_count": 6,
   "id": "9c43b6a9-9b63-4e78-a02f-9259dc7c124f",
   "metadata": {},
   "outputs": [
    {
     "data": {
      "text/plain": [
       "[12, 34, 45, 66, 78, 80, 90, 100, 110]"
      ]
     },
     "execution_count": 6,
     "metadata": {},
     "output_type": "execute_result"
    }
   ],
   "source": [
    "ls[:]#from the beging to last"
   ]
  },
  {
   "cell_type": "code",
   "execution_count": 2,
   "id": "79e163d5-dc3a-4f07-8793-1898696132b0",
   "metadata": {},
   "outputs": [
    {
     "name": "stdout",
     "output_type": "stream",
     "text": [
      "[12, 23, 34, 'how', 'are']\n"
     ]
    }
   ],
   "source": [
    "ls=[12,23,34,45,56,67]\n",
    "ls[3:6]=[\"how\",\"are\"]\n",
    "print(ls)"
   ]
  },
  {
   "cell_type": "code",
   "execution_count": 4,
   "id": "f92859a8-4fe7-413f-a1f7-7c89c053d8fc",
   "metadata": {},
   "outputs": [
    {
     "name": "stdout",
     "output_type": "stream",
     "text": [
      "[23, 45, 67, 89]\n"
     ]
    }
   ],
   "source": [
    "#LS[START:END:STEP])\n",
    "ls=[12,23,34,45,56,67,78,89,87]\n",
    "print(ls[1:8:2]) #1 3 5 7\n"
   ]
  },
  {
   "cell_type": "code",
   "execution_count": 5,
   "id": "386167bf-14be-400a-a0a6-c88bfaea2775",
   "metadata": {},
   "outputs": [
    {
     "name": "stdout",
     "output_type": "stream",
     "text": [
      "[12, 33, 44, 55, 66, 77, 88, 99]\n",
      "[12, 33, 44, 66, 77, 88, 99]\n"
     ]
    }
   ],
   "source": [
    "# del method \n",
    "ls=[12,33,44,55,66,77,88,99,]\n",
    "print(ls)\n",
    "del ls[3]\n",
    "print(ls)"
   ]
  },
  {
   "cell_type": "code",
   "execution_count": 12,
   "id": "d79e19ac-08b2-4637-835e-cf8f00608377",
   "metadata": {},
   "outputs": [
    {
     "name": "stdout",
     "output_type": "stream",
     "text": [
      "[12, 23, 34, 454, 5, 5, 66, 67, 7]\n",
      "[12, 23, 34, 5, 5, 66, 67, 7]\n"
     ]
    }
   ],
   "source": [
    "# pop method \n",
    "# to delete a single element pass the index of that element\n",
    "ls=[12,23,34,454,5,5,66,67,7]\n",
    "print(ls)\n",
    "ls.pop(3)\n",
    "print(ls)"
   ]
  },
  {
   "cell_type": "code",
   "execution_count": 14,
   "id": "93eca2e2-d7ce-4d1b-8764-2d7513e298c5",
   "metadata": {},
   "outputs": [
    {
     "name": "stdout",
     "output_type": "stream",
     "text": [
      "[12, 23, 34, 454, 5, 5, 66, 67, 7]\n",
      "[12, 23, 34, 454, 5, 5, 66, 67]\n"
     ]
    }
   ],
   "source": [
    "#when index is not provided then the last element will be deleted\n",
    "# pop method \n",
    "ls=[12,23,34,454,5,5,66,67,7]\n",
    "print(ls)\n",
    "ls.pop()\n",
    "print(ls)\n"
   ]
  },
  {
   "cell_type": "code",
   "execution_count": 17,
   "id": "6a71e246-47e8-472d-b7df-b4fda452c423",
   "metadata": {},
   "outputs": [
    {
     "ename": "NameError",
     "evalue": "name 'ms' is not defined",
     "output_type": "error",
     "traceback": [
      "\u001b[1;31m---------------------------------------------------------------------------\u001b[0m",
      "\u001b[1;31mNameError\u001b[0m                                 Traceback (most recent call last)",
      "Cell \u001b[1;32mIn[17], line 3\u001b[0m\n\u001b[0;32m      1\u001b[0m ms\u001b[38;5;241m=\u001b[39m[\u001b[38;5;241m22\u001b[39m,\u001b[38;5;241m33\u001b[39m,\u001b[38;5;241m44\u001b[39m,\u001b[38;5;241m55\u001b[39m,\u001b[38;5;241m66\u001b[39m,\u001b[38;5;241m77\u001b[39m,\u001b[38;5;241m88\u001b[39m]\n\u001b[0;32m      2\u001b[0m \u001b[38;5;28;01mdel\u001b[39;00m ms\n\u001b[1;32m----> 3\u001b[0m \u001b[38;5;28mprint\u001b[39m(ms)\n",
      "\u001b[1;31mNameError\u001b[0m: name 'ms' is not defined"
     ]
    }
   ],
   "source": [
    "ms=[22,33,44,55,66,77,88]\n",
    "del ms\n",
    "print(ms)"
   ]
  },
  {
   "cell_type": "code",
   "execution_count": 18,
   "id": "347dc24e-fb65-491f-87db-ef0ad5cb3b2e",
   "metadata": {},
   "outputs": [
    {
     "name": "stdout",
     "output_type": "stream",
     "text": [
      "[11, 44, 33, 44, 5555, 66, 77]\n",
      "[77, 66, 5555, 44, 33, 44, 11]\n"
     ]
    }
   ],
   "source": [
    "#reverse without using reverse function\n",
    "ls=[11,44,33,44,5555,66,77,]\n",
    "print(ls)\n",
    "print(ls[::-1])"
   ]
  },
  {
   "cell_type": "code",
   "execution_count": 21,
   "id": "e66bfcb2-faa7-4a35-adf1-f4818394ec76",
   "metadata": {},
   "outputs": [
    {
     "name": "stdout",
     "output_type": "stream",
     "text": [
      "[12, 23, 34, 45, 56, 67]\n",
      "[12, 23, 34, 45, 56, 67, 98]\n",
      "[12, 23, 34, 45, 56, 67, 98, 'anurag is good boy']\n",
      "[12, 23, 34, 45, 56, 67, 98, 'anurag is good boy', [98, 90, 98]]\n"
     ]
    }
   ],
   "source": [
    "#append method\n",
    "ls=[12,23,34,45,56,67]\n",
    "print(ls)\n",
    "ls.append(98)\n",
    "print(ls)\n",
    "ls.append(\"anurag is good boy\")\n",
    "print(ls)\n",
    "ls.append([98,90,98])\n",
    "print(ls)"
   ]
  },
  {
   "cell_type": "code",
   "execution_count": 3,
   "id": "fd7da8e6-c341-45ee-9dd0-81ce64c7d0cc",
   "metadata": {},
   "outputs": [
    {
     "name": "stdin",
     "output_type": "stream",
     "text": [
      "enter the number 55\n",
      "enter the number 77\n",
      "enter the number 99\n",
      "enter the number 88\n",
      "enter the number 34\n"
     ]
    },
    {
     "name": "stdout",
     "output_type": "stream",
     "text": [
      "[55, 77, 99, 88, 34]\n"
     ]
    }
   ],
   "source": [
    "#make your list of 10 element of your choice\n",
    "ls=[]\n",
    "for i in range(5):\n",
    "    n=int(input(\"enter the number\"))\n",
    "    ls.append(n)\n",
    "print(ls)\n",
    "\n"
   ]
  },
  {
   "cell_type": "code",
   "execution_count": 6,
   "id": "fde11481-9b46-4d56-a0b6-27ce157c9482",
   "metadata": {},
   "outputs": [
    {
     "name": "stdin",
     "output_type": "stream",
     "text": [
      "enter the number 55\n",
      "enter the number 77\n",
      "enter the number 88\n",
      "enter the number 88\n",
      "enter the number 90\n",
      "enter the number 78\n",
      "enter the number 64\n",
      "enter the number 65\n",
      "enter the number 33\n",
      "enter the number 23\n"
     ]
    },
    {
     "name": "stdout",
     "output_type": "stream",
     "text": [
      "[55, 77, 88, 88, 90, 78, 64, 65, 33, 23]\n",
      "even list [88, 88, 90, 78, 64]\n",
      "odd list [55, 77, 65, 33, 23]\n"
     ]
    }
   ],
   "source": [
    "#make the separatm a e list of even and odd nuber from a list\n",
    "ls=[]\n",
    "for i in range(10):\n",
    "    n=int(input(\"enter the number\"))\n",
    "    ls.append(n)\n",
    "print(ls)\n",
    "\n",
    "ls_e=[]\n",
    "ls_o=[]\n",
    "for i in ls:\n",
    "    if i%2==0:\n",
    "        ls_e.append(i)\n",
    "    else:\n",
    "        ls_o.append(i)\n",
    "print(\"even list\",ls_e)\n",
    "print(\"odd list\",ls_o)\n",
    "        \n",
    "        \n",
    "    \n",
    "    \n",
    "    \n",
    "\n",
    "    "
   ]
  },
  {
   "cell_type": "code",
   "execution_count": 4,
   "id": "144380a9-f99b-4092-b531-148d4418cff0",
   "metadata": {},
   "outputs": [
    {
     "name": "stdin",
     "output_type": "stream",
     "text": [
      "input the number 77\n",
      "input the number 88\n",
      "input the number 90\n",
      "input the number 98\n",
      "input the number 778\n",
      "input the number 6\n",
      "input the number 44\n",
      "input the number 33\n",
      "input the number 22\n",
      "input the number 11\n"
     ]
    },
    {
     "name": "stdout",
     "output_type": "stream",
     "text": [
      "[77, 88, 90, 98, 778, 6, 44, 33, 22, 11]\n",
      "maximum element is  6\n"
     ]
    }
   ],
   "source": [
    "#find the maxmimum element in the list\n",
    "\n",
    "ls=[]\n",
    "for i in range(10):\n",
    "    n=int(input(\"input the number\"))\n",
    "    ls.append(n)\n",
    "print(ls)\n",
    "print(\"minimum element is \",min(ls))"
   ]
  },
  {
   "cell_type": "code",
   "execution_count": 11,
   "id": "b182a56a-ba1d-4160-a752-fc3fcec39f28",
   "metadata": {},
   "outputs": [
    {
     "name": "stdin",
     "output_type": "stream",
     "text": [
      "input the number 990\n",
      "input the number 77\n",
      "input the number 66\n",
      "input the number 55\n",
      "input the number 44\n",
      "input the number 33\n",
      "input the number 09\n",
      "input the number 77\n",
      "input the number 660\n",
      "input the number 678\n"
     ]
    },
    {
     "name": "stdout",
     "output_type": "stream",
     "text": [
      "[990, 77, 66, 55, 44, 33, 9, 77, 660, 678]\n",
      "the maxium is  990\n"
     ]
    }
   ],
   "source": [
    "ls=[]\n",
    "for i in range(10):\n",
    "    n=int(input(\"input the number\"))\n",
    "    ls.append(n)\n",
    "print(ls)\n",
    "M=ls[0]\n",
    "for i in ls:\n",
    "    if i>M:\n",
    "        M=i\n",
    "print(\"the maxium is \",M)"
   ]
  },
  {
   "cell_type": "code",
   "execution_count": 13,
   "id": "add51817-327b-4998-bf8b-dec979350ee2",
   "metadata": {},
   "outputs": [
    {
     "name": "stdin",
     "output_type": "stream",
     "text": [
      "input the number 88\n",
      "input the number 6\n",
      "input the number 77\n",
      "input the number 09\n",
      "input the number 889\n",
      "input the number 99\n",
      "input the number 7\n",
      "input the number 44\n",
      "input the number 34\n",
      "input the number 32\n"
     ]
    },
    {
     "name": "stdout",
     "output_type": "stream",
     "text": [
      "[88, 6, 77, 9, 889, 99, 7, 44, 34, 32]\n",
      "the maxium is  6\n"
     ]
    }
   ],
   "source": [
    "ls=[]\n",
    "for i in range(10):\n",
    "    n=int(input(\"input the number\"))\n",
    "    ls.append(n)\n",
    "print(ls)\n",
    "Mi=ls[0]\n",
    "for i in ls:\n",
    "    if i<Mi:\n",
    "        Mi=i\n",
    "print(\"the maxium is \",Mi)"
   ]
  },
  {
   "cell_type": "code",
   "execution_count": 17,
   "id": "1d6d418b-3533-468d-abe5-724e37ff0754",
   "metadata": {},
   "outputs": [
    {
     "name": "stdout",
     "output_type": "stream",
     "text": [
      "[22, 333, 44, 55, 66, 77, 33, 56]\n",
      "[22, 333, 44, 55, 66, 77, 33, 56, 98, 87, 76]\n"
     ]
    }
   ],
   "source": [
    "#extend\n",
    "#it is used to insert more than one element at a time in the list element is always inserted at the end of the list:\n",
    "ls=[22,333,44,55,66,77,33,56,]\n",
    "print(ls)\n",
    "ls.extend((98,87,76))\n",
    "print(ls)\n",
    "\n"
   ]
  },
  {
   "cell_type": "code",
   "execution_count": 19,
   "id": "10356037-aaa2-4b2f-8cc7-f2ffdf6de1e8",
   "metadata": {},
   "outputs": [
    {
     "name": "stdout",
     "output_type": "stream",
     "text": [
      "[22, 333, 44, 55, 66, 77, 33, 56]\n",
      "[22, 333, 44, 55, 66, 77, 33, 56, 'hello', 'how', 'you']\n"
     ]
    }
   ],
   "source": [
    "ls=[22,333,44,55,66,77,33,56,]\n",
    "print(ls)\n",
    "l1=[\"hello\",\"how\",\"you\"]\n",
    "ls.extend(l1)\n",
    "print(ls)"
   ]
  },
  {
   "cell_type": "code",
   "execution_count": 21,
   "id": "9407a241-1463-4b3b-a7a8-3cca12b9e6c2",
   "metadata": {},
   "outputs": [
    {
     "name": "stdout",
     "output_type": "stream",
     "text": [
      "[12, 33, 44, 45, 66, 44, 77]\n",
      "[12, 33, 44, 'anurag', 45, 66, 44, 77]\n"
     ]
    }
   ],
   "source": [
    "#insert:- by this method you can insert eleement at desired indexx\n",
    "#ls.insert(index,value)\n",
    "ls=[12,33,44,45,66,44,77]\n",
    "print(ls)\n",
    "ls.insert(3,\"anurag\")\n",
    "print(ls)"
   ]
  },
  {
   "cell_type": "code",
   "execution_count": 23,
   "id": "da42164b-c01e-47d3-adac-dac051b2cd38",
   "metadata": {},
   "outputs": [
    {
     "name": "stdout",
     "output_type": "stream",
     "text": [
      "[22, 33, 44, 55, 66, 55, 77]\n",
      "[]\n"
     ]
    }
   ],
   "source": [
    "#clear\n",
    "#clear all element by using the clear method \n",
    "ls=[22,33,44,55,66,55,77,]\n",
    "print(ls)\n",
    "ls.clear()\n",
    "print(ls)"
   ]
  },
  {
   "cell_type": "code",
   "execution_count": 24,
   "id": "41638fcd-b151-46bc-92d9-b9fe9c4f023d",
   "metadata": {},
   "outputs": [
    {
     "name": "stdout",
     "output_type": "stream",
     "text": [
      "[22, 33, 44, 55, 66, 55, 77]\n",
      "[77, 55, 66, 55, 44, 33, 22]\n"
     ]
    }
   ],
   "source": [
    "#reverse\n",
    "ls=[22,33,44,55,66,55,77,]\n",
    "print(ls)\n",
    "ls.reverse()\n",
    "print(ls)\n"
   ]
  },
  {
   "cell_type": "code",
   "execution_count": 25,
   "id": "dbe48fd5-d20f-44cd-820f-4d096ef299c0",
   "metadata": {},
   "outputs": [
    {
     "name": "stdout",
     "output_type": "stream",
     "text": [
      "[33, 1, 54, 67, 23, 21, 12]\n",
      "[1, 12, 21, 23, 33, 54, 67]\n"
     ]
    }
   ],
   "source": [
    "#sort\n",
    "#Arange the element in ascending  or descending order\n",
    "ls=[33,1,54,67,23,21,12,]\n",
    "print(ls)\n",
    "ls.sort()\n",
    "print(ls)"
   ]
  },
  {
   "cell_type": "code",
   "execution_count": 26,
   "id": "cdba98cd-b893-4e45-98d1-7f8b4c087c37",
   "metadata": {},
   "outputs": [
    {
     "name": "stdout",
     "output_type": "stream",
     "text": [
      "[33, 1, 54, 67, 23, 21, 12]\n",
      "[67, 54, 33, 23, 21, 12, 1]\n"
     ]
    }
   ],
   "source": [
    "ls=[33,1,54,67,23,21,12,]\n",
    "print(ls)\n",
    "ls.sort(reverse=True)\n",
    "print(ls)"
   ]
  },
  {
   "cell_type": "code",
   "execution_count": 27,
   "id": "5d1aa470-d291-4636-a8a8-f9862c9ecc8f",
   "metadata": {},
   "outputs": [
    {
     "name": "stdout",
     "output_type": "stream",
     "text": [
      "[12, 22, 44, 33, 22, 12, 12, 12, 12, 77, 88, 88]\n",
      "5\n"
     ]
    }
   ],
   "source": [
    "#count method\n",
    "#count the frequency of the element in the list\n",
    "ls=[12,22,44,33,22,12,12,12,12,77,88,88,]\n",
    "print(ls)\n",
    "x=ls.count(12)\n",
    "print(x)"
   ]
  },
  {
   "cell_type": "code",
   "execution_count": 28,
   "id": "5dc4de05-d2b7-445b-8f3d-7f89e4c772f8",
   "metadata": {},
   "outputs": [
    {
     "name": "stdout",
     "output_type": "stream",
     "text": [
      "[12, 22, 44, 33, 22, 12, 12, 12, 12, 77, 88, 88]\n",
      "0\n"
     ]
    }
   ],
   "source": [
    "ls=[12,22,44,33,22,12,12,12,12,77,88,88,]\n",
    "print(ls)\n",
    "x=ls.index(12)\n",
    "print(x)"
   ]
  },
  {
   "cell_type": "code",
   "execution_count": 3,
   "id": "2b20b5c3-0a33-4a18-9e4f-7474edb43686",
   "metadata": {},
   "outputs": [
    {
     "name": "stdout",
     "output_type": "stream",
     "text": [
      "[11, 33, 55, 33, 27, 88]\n",
      "[11, 33, 55, 33, 27, 88]\n",
      "[11, 33, 55, 'anuag', 27, 88]\n",
      "[11, 33, 55, 'anuag', 27, 88]\n"
     ]
    }
   ],
   "source": [
    "ls=[11,33,55,33,27,88]\n",
    "ls1=ls\n",
    "print(ls)\n",
    "print(ls1)\n",
    "ls1[3]=\"anuag\"\n",
    "print(ls)\n",
    "print(ls1)"
   ]
  },
  {
   "cell_type": "code",
   "execution_count": 4,
   "id": "80d14f1c-e3cd-4827-a577-0ba4c2286bb1",
   "metadata": {},
   "outputs": [
    {
     "name": "stdout",
     "output_type": "stream",
     "text": [
      "[11, 33, 55, 33, 27, 88]\n",
      "[11, 33, 55, 33, 27, 88]\n",
      "[11, 33, 55, 'anuag', 27, 88]\n",
      "[11, 33, 55, 33, 27, 88]\n"
     ]
    }
   ],
   "source": [
    "ls=[11,33,55,33,27,88]\n",
    "ls=ls1.copy()\n",
    "print(ls)\n",
    "print(ls1)\n",
    "ls[3]=('anuag')\n",
    "print(ls)\n",
    "print(ls1)"
   ]
  },
  {
   "cell_type": "code",
   "execution_count": 7,
   "id": "060ef344-d6cb-433a-b1b2-4c366834aa33",
   "metadata": {},
   "outputs": [
    {
     "name": "stdout",
     "output_type": "stream",
     "text": [
      "[1, 2, 3, 4, [5, 6, 7]]\n"
     ]
    }
   ],
   "source": [
    "T=[1,2,3,4]\n",
    "T1=[5,6,7]\n",
    "T.append(T1)\n",
    "print(T)"
   ]
  },
  {
   "cell_type": "code",
   "execution_count": 8,
   "id": "1d56a221-51d5-4717-9111-4a9e1c86ef1f",
   "metadata": {},
   "outputs": [
    {
     "name": "stdout",
     "output_type": "stream",
     "text": [
      "5\n"
     ]
    }
   ],
   "source": [
    "l=[1,2,3,4,5,6,7,8,9,10]\n",
    "print(l[l[3]])"
   ]
  },
  {
   "cell_type": "code",
   "execution_count": 10,
   "id": "b3c4a28b-5aad-4637-8ed3-8262a3f888cc",
   "metadata": {},
   "outputs": [
    {
     "name": "stdout",
     "output_type": "stream",
     "text": [
      "10\n"
     ]
    }
   ],
   "source": [
    "l=[1,2,3,4,5,6,7,8,9,10]\n",
    "print(l[len(l)-1])"
   ]
  },
  {
   "cell_type": "code",
   "execution_count": 10,
   "id": "4b431b15-3052-4a4c-8a56-e69c253557c3",
   "metadata": {},
   "outputs": [
    {
     "name": "stdout",
     "output_type": "stream",
     "text": [
      "False\n"
     ]
    }
   ],
   "source": [
    "print(1 in[[1],2,3])"
   ]
  },
  {
   "cell_type": "code",
   "execution_count": 14,
   "id": "d4407860-4032-491e-a411-85bf1920aa49",
   "metadata": {},
   "outputs": [
    {
     "name": "stdout",
     "output_type": "stream",
     "text": [
      "maxy\n"
     ]
    }
   ],
   "source": [
    "ls=[\"amn\",\"maxy\",\"Zoseph\"]\n",
    "print(max(ls))"
   ]
  },
  {
   "cell_type": "code",
   "execution_count": 1,
   "id": "d27cc65e-da1b-4f36-8360-fcc55c7e14eb",
   "metadata": {},
   "outputs": [
    {
     "name": "stdout",
     "output_type": "stream",
     "text": [
      "1\n",
      "2\n",
      "3\n",
      "4\n",
      "5\n",
      "6\n",
      "7\n",
      "8\n",
      "9\n"
     ]
    }
   ],
   "source": [
    "for i in range(1,10):\n",
    "    print(i)"
   ]
  },
  {
   "cell_type": "code",
   "execution_count": null,
   "id": "3cb49f27-8e3f-44df-aa09-f76a07344026",
   "metadata": {},
   "outputs": [],
   "source": []
  }
 ],
 "metadata": {
  "kernelspec": {
   "display_name": "Python 3 (ipykernel)",
   "language": "python",
   "name": "python3"
  },
  "language_info": {
   "codemirror_mode": {
    "name": "ipython",
    "version": 3
   },
   "file_extension": ".py",
   "mimetype": "text/x-python",
   "name": "python",
   "nbconvert_exporter": "python",
   "pygments_lexer": "ipython3",
   "version": "3.11.7"
  }
 },
 "nbformat": 4,
 "nbformat_minor": 5
}
